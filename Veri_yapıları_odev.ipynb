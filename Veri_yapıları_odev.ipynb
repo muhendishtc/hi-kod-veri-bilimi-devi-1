{
 "cells": [
  {
   "cell_type": "markdown",
   "id": "032d81b2",
   "metadata": {},
   "source": [
    "# 1\n",
    "x = 3 ----> floata çevirelim. Çevirdikten sonra beri tipinide yazdıralım.\n",
    "\n",
    "y = 4.5 -----> integere çevirelim. Çevirdikten sonra beri tipinide yazdıralım.\n",
    "\n",
    "z = \"8\" -----> integera çevirelim. Çevirdikten sonra beri tipinide yazdıralım.\n",
    "\n",
    "a = \"12\" -----> floata çevirelim. Çevirdikten sonra beri tipinide yazdıralım.\n",
    "\n",
    "b = \"46.8\" ------> integera çevirelim. Çevirdikten sonra beri tipinide yazdıralım."
   ]
  },
  {
   "cell_type": "code",
   "execution_count": null,
   "id": "f1b735c0",
   "metadata": {},
   "outputs": [],
   "source": [
    "x = 3\n",
    "x_float = float(x)\n",
    "print(x_float)\n",
    "print(type(x_float))\n",
    "\n",
    "y = 4.5\n",
    "y_int = int(y)\n",
    "print(y_int)\n",
    "print(type(y_int))\n",
    "\n",
    "z = \"8\"\n",
    "z_int = int(z)\n",
    "print(z_int)\n",
    "print(type(z_int))\n",
    "\n",
    "a =\"12\"\n",
    "a_float= float(a)\n",
    "print(a_float)\n",
    "print(type(a_float))\n",
    "\n",
    "b = \"46.8\"\n",
    "b_int=int(float(b)\n",
    "print(b_int)\n",
    "print(type(b_int))"
   ]
  },
  {
   "cell_type": "markdown",
   "id": "95509718",
   "metadata": {},
   "source": [
    "# 2 \n",
    "İsimlerden oluşan üç değişkene yaş değerleri atanır. Belirlenen üç değişken birbiriyle karşılaştırma operatörleri ile karşılaştırılır. Bu karşılaştırmalara mantıksal operatörler de eklenir."
   ]
  },
  {
   "cell_type": "code",
   "execution_count": null,
   "id": "50f77b4f",
   "metadata": {},
   "outputs": [],
   "source": [
    "züleyha=20\n",
    "öznur=21\n",
    "haticenur=22\n",
    "\n",
    "\n",
    "print(\"öznur ,züleyha'dan büyük mü ve haticenur'dan küçük mü ?\")\n",
    "print(öznur> züleyha and öznur < haticenur) #mantıksal and kullanımı\n",
    "\n",
    "print(\"züleyha öznur'dan küçük mü veya öznur'a eşit mi?\")\n",
    "print(\"züleyha < öznur or züleyha == öznur \")\n",
    "\n",
    "print(\"haticenur öznur'dan büyük mü değil mi?\")\n",
    "print(not (haticenur > öznur))\n",
    "\n"
   ]
  },
  {
   "cell_type": "markdown",
   "id": "a1a0eb92",
   "metadata": {},
   "source": [
    "# 3\n",
    "Kullanıcıdan iki değer girmesini istenir. Girilen değerlerin toplama, çıkarma, çarpma, bölme sonuçlarını yazdırılır."
   ]
  },
  {
   "cell_type": "code",
   "execution_count": null,
   "id": "c361e45a",
   "metadata": {},
   "outputs": [],
   "source": [
    "sayi1=float(input(\"birinci sayıyı giriniz:\"))\n",
    "sayi2=float(input(\"ikinci sayıyı giriniz:\"))\n",
    "\n",
    "toplama=  sayi1 + sayi2\n",
    "cikarma= sayi1-sayi2\n",
    "carpma=  sayi1*sayi2\n",
    "\n",
    "if sayi !=0:\n",
    "    bome = sayi/sayi2\n",
    "else:\n",
    "    bolme \"Tanımsız(sıfıra bölünmez)\"\n",
    "\n",
    "   print(f\"toplama:{toplam}\") \n",
    "   print(f\"çıkarma:{cikarma}\") \n",
    "   print(f\"bölme:{bolme}\") \n",
    "\n"
   ]
  },
  {
   "cell_type": "markdown",
   "id": "060b0bea",
   "metadata": {},
   "source": [
    "# 4\n",
    "Kullanıcıdan isim, yaş, şehir ve meslek bilgilerini istenir ve cevaplarını yazdırılır."
   ]
  },
  {
   "cell_type": "code",
   "execution_count": null,
   "id": "6f5dea59",
   "metadata": {},
   "outputs": [],
   "source": [
    "isim=input(\"isminizi giriniz:\")\n",
    "yaş=input(\"Yaşınızı giriniz:\")\n",
    "şehir=input(\"Sehriniz giriniz:\")\n",
    "meslek=input(\"Mesleginizi giriniz:\")\n",
    "\n",
    "print(\"\\nGirdiğiniz Bilgiler:\")\n",
    "print(f\"İsim:{isim}\")\n",
    "print(f\"Yaş:{yas}\")\n",
    "print(f\"Şehir:{sehir}\")\n",
    "print(f\"Meslek:{meslek}\")\n"
   ]
  },
  {
   "cell_type": "markdown",
   "id": "55e1a34e",
   "metadata": {},
   "source": [
    "# 5\n",
    "\"Hi-Kod Veri Bilimi Atölyesi\" ifadesini bir değişkene tanımlanır.\n",
    "\n",
    "\n",
    " 1. İfadedeki her bir kelimeyi (\"Hi-Kod\", \"Veri\", \"Bilimi\", \"Atölyesi\") değişken içinden seçilir. \n",
    " 2. İfadeyi hepsini büyük harf olacak hale çevrilir. (\"HI-KOD VERİ BİLİMİ ATÖLYESİ\") \n",
    " 3. İfadeyi hepsini küçük harf olacak hale çevrilir.(\"hi-kod veri bilimi atölyesi\") \n",
    "\n",
    "\"0123456789\" ifadesindeki yalnızca çift sayıları ve yalnızca tek sayıları seçilir. (\"02468\", \"13579\")"
   ]
  },
  {
   "cell_type": "code",
   "execution_count": null,
   "id": "0fc1bc40",
   "metadata": {},
   "outputs": [],
   "source": [
    "# İfadeyi bir değişkene tanımlıyoruz\n",
    "ifade = \"Hi-Kod Veri Bilimi Atölyesi\"\n",
    "\n",
    "# 1. Her bir kelimeyi değişken içinden seçmek\n",
    "kelime1 = ifade.split()[0]  # \"Hi-Kod\"\n",
    "kelime2 = ifade.split()[1]  # \"Veri\"\n",
    "kelime3 = ifade.split()[2]  # \"Bilimi\"\n",
    "kelime4 = ifade.split()[3]  # \"Atölyesi\"\n",
    "\n",
    "print(\"Kelime 1:\", kelime1)\n",
    "print(\"Kelime 2:\", kelime2)\n",
    "print(\"Kelime 3:\", kelime3)\n",
    "print(\"Kelime 4:\", kelime4)\n",
    "\n",
    "# 2. İfadeyi tamamen büyük harfe çevirmek\n",
    "ifade_buyuk = ifade.upper()\n",
    "print(\"\\nBüyük harf hali:\", ifade_buyuk)\n",
    "\n",
    "# 3. İfadeyi tamamen küçük harfe çevirmek\n",
    "ifade_kucuk = ifade.lower()\n",
    "print(\"Küçük harf hali:\", ifade_kucuk)\n",
    "\n",
    "\n",
    "\n",
    "# İfadeyi tanımlıyoruz\n",
    "ifade = \"0123456789\"\n",
    "\n",
    "# Çift sayıları seçmek\n",
    "cift_sayilar = ifade[::2]  # 0'dan başlayıp her ikinci elemanı alır\n",
    "print(\"Çift sayılar:\", cift_sayilar)\n",
    "\n",
    "# Tek sayıları seçmek\n",
    "tek_sayilar = ifade[1::2]  # 1'den başlayıp her ikinci elemanı alır\n",
    "print(\"Tek sayılar:\", tek_sayilar)\n",
    "\n"
   ]
  }
 ],
 "metadata": {
  "kernelspec": {
   "display_name": "Python 3 (ipykernel)",
   "language": "python",
   "name": "python3"
  },
  "language_info": {
   "codemirror_mode": {
    "name": "ipython",
    "version": 3
   },
   "file_extension": ".py",
   "mimetype": "text/x-python",
   "name": "python",
   "nbconvert_exporter": "python",
   "pygments_lexer": "ipython3",
   "version": "3.9.12"
  }
 },
 "nbformat": 4,
 "nbformat_minor": 5
}
